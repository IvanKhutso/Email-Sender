{
 "cells": [
  {
   "cell_type": "code",
   "execution_count": 4,
   "id": "75426c69",
   "metadata": {},
   "outputs": [],
   "source": [
    "import yagmail  # pip install yagmail\n",
    "from plyer import notification\n",
    "class LogicMail():\n",
    "    def __init__(self,sender_email,sender_password):\n",
    "\n",
    "        self.sender_email = sender_email\n",
    "        self.sender_password = sender_password\n",
    "\n",
    "    def send(self,receiver_email,subject,text_message,attachment):\n",
    "        self.receiver = receiver_email\n",
    "        self.subject = subject\n",
    "        self.message = text_message\n",
    "        self.receiver = self.receiver.split(',')\n",
    "        self.attach = attachment\n",
    "\n",
    "        if len(self.attach) == 0:\n",
    "            yag = yagmail.SMTP(user=self.sender_email, password=self.sender_password)\n",
    "            yag.send(self.receiver, self.subject, self.message)\n",
    "            notification.notify(title=\"Sender Says\",message=\" Mail is sent\",timeout=5)\n",
    "        else:\n",
    "            yag = yagmail.SMTP(user=self.sender_email, password=self.sender_password)\n",
    "            yag.send(self.receiver, self.subject, self.message,self.attach)\n",
    "            notification.notify(title=\"Sender Says\", message=\" Mail is sent\", timeout=5)\n",
    "\n",
    "\n"
   ]
  },
  {
   "cell_type": "code",
   "execution_count": 2,
   "id": "4fc2aa56",
   "metadata": {},
   "outputs": [
    {
     "name": "stdout",
     "output_type": "stream",
     "text": [
      "Requirement already satisfied: yagmail in /Users/ivankhutso/opt/anaconda3/lib/python3.9/site-packages (0.14.260)\n",
      "Requirement already satisfied: premailer in /Users/ivankhutso/opt/anaconda3/lib/python3.9/site-packages (from yagmail) (3.10.0)\n",
      "Requirement already satisfied: cachetools in /Users/ivankhutso/opt/anaconda3/lib/python3.9/site-packages (from premailer->yagmail) (5.0.0)\n",
      "Requirement already satisfied: requests in /Users/ivankhutso/opt/anaconda3/lib/python3.9/site-packages (from premailer->yagmail) (2.26.0)\n",
      "Requirement already satisfied: cssutils in /Users/ivankhutso/opt/anaconda3/lib/python3.9/site-packages (from premailer->yagmail) (2.3.0)\n",
      "Requirement already satisfied: cssselect in /Users/ivankhutso/opt/anaconda3/lib/python3.9/site-packages (from premailer->yagmail) (1.1.0)\n",
      "Requirement already satisfied: lxml in /Users/ivankhutso/opt/anaconda3/lib/python3.9/site-packages (from premailer->yagmail) (4.6.3)\n",
      "Requirement already satisfied: idna<4,>=2.5 in /Users/ivankhutso/opt/anaconda3/lib/python3.9/site-packages (from requests->premailer->yagmail) (3.2)\n",
      "Requirement already satisfied: certifi>=2017.4.17 in /Users/ivankhutso/opt/anaconda3/lib/python3.9/site-packages (from requests->premailer->yagmail) (2021.10.8)\n",
      "Requirement already satisfied: charset-normalizer~=2.0.0 in /Users/ivankhutso/opt/anaconda3/lib/python3.9/site-packages (from requests->premailer->yagmail) (2.0.4)\n",
      "Requirement already satisfied: urllib3<1.27,>=1.21.1 in /Users/ivankhutso/opt/anaconda3/lib/python3.9/site-packages (from requests->premailer->yagmail) (1.26.7)\n",
      "Note: you may need to restart the kernel to use updated packages.\n"
     ]
    }
   ],
   "source": [
    "pip install yagmail"
   ]
  },
  {
   "cell_type": "code",
   "execution_count": 3,
   "id": "b105d29e",
   "metadata": {},
   "outputs": [
    {
     "name": "stdout",
     "output_type": "stream",
     "text": [
      "Requirement already satisfied: plyer in /Users/ivankhutso/opt/anaconda3/lib/python3.9/site-packages (2.0.0)\n",
      "Note: you may need to restart the kernel to use updated packages.\n"
     ]
    }
   ],
   "source": [
    "pip install plyer"
   ]
  },
  {
   "cell_type": "code",
   "execution_count": null,
   "id": "c9e51898",
   "metadata": {},
   "outputs": [],
   "source": []
  }
 ],
 "metadata": {
  "kernelspec": {
   "display_name": "Python 3 (ipykernel)",
   "language": "python",
   "name": "python3"
  },
  "language_info": {
   "codemirror_mode": {
    "name": "ipython",
    "version": 3
   },
   "file_extension": ".py",
   "mimetype": "text/x-python",
   "name": "python",
   "nbconvert_exporter": "python",
   "pygments_lexer": "ipython3",
   "version": "3.9.7"
  }
 },
 "nbformat": 4,
 "nbformat_minor": 5
}
